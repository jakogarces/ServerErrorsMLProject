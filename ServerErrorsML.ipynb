{
 "cells": [
  {
   "cell_type": "markdown",
   "id": "equipped-singing",
   "metadata": {},
   "source": [
    "### Tarea: Creación de un Modelo de Clasificación para Predecir Problemas en Procesos de un Servidor\n",
    "\n",
    "#### Objetivo\n",
    "Desarrollar un modelo de clasificación que pueda predecir si un proceso en ejecución en un servidor causará problemas, basándose en datos históricos de los procesos. Este modelo ayudará en la detección temprana de procesos potencialmente problemáticos, permitiendo tomar acciones preventivas para asegurar la estabilidad y el rendimiento del servidor.\n",
    "\n",
    "#### Datos\n",
    "El conjunto de datos proporcionado incluye las siguientes características para cada proceso en el servidor:\n",
    "\n",
    "- `ID_Proceso`: Identificador único del proceso.\n",
    "- `Uso_CPU`: Porcentaje del CPU utilizado por el proceso.\n",
    "- `Uso_Memoria`: Porcentaje de memoria utilizada por el proceso.\n",
    "- `Numero_Hilos`: Número de hilos del proceso.\n",
    "- `Tiempo_Ejecucion`: Tiempo de ejecución del proceso en horas.\n",
    "- `Numero_Errores`: Número de errores generados por el proceso en las últimas 24 horas.\n",
    "- `Tipo_Proceso`: Categoría del proceso (Servicio, Aplicación, Sistema).\n",
    "\n",
    "La variable objetivo, `Estado`, indica si un proceso es problemático (1) o no (0), basada en el uso de recursos, número de errores, tipo de proceso, y otros factores relevantes.\n",
    "\n",
    "#### Entrega\n",
    "La tarea final consistirá en un Jupyter Notebook que contenga todo el código utilizado para el análisis, preprocesamiento de datos, modelado, y evaluación, junto con un reporte escrito (dentro del mismo notebook o como un documento separado) que resuma los hallazgos y las recomendaciones basadas en el modelo desarrollado."
   ]
  },
  {
   "cell_type": "code",
   "execution_count": 1,
   "id": "religious-formation",
   "metadata": {},
   "outputs": [],
   "source": [
    "import pandas as pd\n",
    "import numpy as np\n",
    "import matplotlib.pyplot as plt\n",
    "import seaborn as sns\n",
    "import warnings as wr\n",
    "wr.filterwarnings('ignore')"
   ]
  },
  {
   "cell_type": "markdown",
   "id": "separate-tragedy",
   "metadata": {},
   "source": [
    "## 1) Análisis Exploratorio de Datos (EDA): \n",
    "Realice un análisis preliminar para entender la distribución y las características de los datos. Esto incluye verificar valores faltantes, la distribución de las variables numéricas, y la frecuencia de las categorías en variables categóricas."
   ]
  },
  {
   "cell_type": "code",
   "execution_count": 2,
   "id": "anticipated-louisville",
   "metadata": {},
   "outputs": [
    {
     "data": {
      "text/html": [
       "<div>\n",
       "<style scoped>\n",
       "    .dataframe tbody tr th:only-of-type {\n",
       "        vertical-align: middle;\n",
       "    }\n",
       "\n",
       "    .dataframe tbody tr th {\n",
       "        vertical-align: top;\n",
       "    }\n",
       "\n",
       "    .dataframe thead th {\n",
       "        text-align: right;\n",
       "    }\n",
       "</style>\n",
       "<table border=\"1\" class=\"dataframe\">\n",
       "  <thead>\n",
       "    <tr style=\"text-align: right;\">\n",
       "      <th></th>\n",
       "      <th>ID_Proceso</th>\n",
       "      <th>Uso_CPU</th>\n",
       "      <th>Uso_Memoria</th>\n",
       "      <th>Numero_Hilos</th>\n",
       "      <th>Tiempo_Ejecucion</th>\n",
       "      <th>Numero_Errores</th>\n",
       "      <th>Tipo_Proceso</th>\n",
       "      <th>Estado</th>\n",
       "    </tr>\n",
       "  </thead>\n",
       "  <tbody>\n",
       "    <tr>\n",
       "      <th>0</th>\n",
       "      <td>1</td>\n",
       "      <td>37.454012</td>\n",
       "      <td>59.515562</td>\n",
       "      <td>16</td>\n",
       "      <td>8.184879</td>\n",
       "      <td>3</td>\n",
       "      <td>Aplicación</td>\n",
       "      <td>0</td>\n",
       "    </tr>\n",
       "    <tr>\n",
       "      <th>1</th>\n",
       "      <td>2</td>\n",
       "      <td>95.071431</td>\n",
       "      <td>36.471714</td>\n",
       "      <td>18</td>\n",
       "      <td>76.195256</td>\n",
       "      <td>8</td>\n",
       "      <td>Aplicación</td>\n",
       "      <td>0</td>\n",
       "    </tr>\n",
       "    <tr>\n",
       "      <th>2</th>\n",
       "      <td>3</td>\n",
       "      <td>73.199394</td>\n",
       "      <td>0.537562</td>\n",
       "      <td>21</td>\n",
       "      <td>46.991138</td>\n",
       "      <td>3</td>\n",
       "      <td>Aplicación</td>\n",
       "      <td>0</td>\n",
       "    </tr>\n",
       "    <tr>\n",
       "      <th>3</th>\n",
       "      <td>4</td>\n",
       "      <td>59.865848</td>\n",
       "      <td>56.108773</td>\n",
       "      <td>28</td>\n",
       "      <td>87.884325</td>\n",
       "      <td>4</td>\n",
       "      <td>Aplicación</td>\n",
       "      <td>0</td>\n",
       "    </tr>\n",
       "    <tr>\n",
       "      <th>4</th>\n",
       "      <td>5</td>\n",
       "      <td>15.601864</td>\n",
       "      <td>89.657041</td>\n",
       "      <td>39</td>\n",
       "      <td>4.622599</td>\n",
       "      <td>1</td>\n",
       "      <td>Sistema</td>\n",
       "      <td>0</td>\n",
       "    </tr>\n",
       "  </tbody>\n",
       "</table>\n",
       "</div>"
      ],
      "text/plain": [
       "   ID_Proceso    Uso_CPU  Uso_Memoria  Numero_Hilos  Tiempo_Ejecucion  \\\n",
       "0           1  37.454012    59.515562            16          8.184879   \n",
       "1           2  95.071431    36.471714            18         76.195256   \n",
       "2           3  73.199394     0.537562            21         46.991138   \n",
       "3           4  59.865848    56.108773            28         87.884325   \n",
       "4           5  15.601864    89.657041            39          4.622599   \n",
       "\n",
       "   Numero_Errores Tipo_Proceso  Estado  \n",
       "0               3   Aplicación       0  \n",
       "1               8   Aplicación       0  \n",
       "2               3   Aplicación       0  \n",
       "3               4   Aplicación       0  \n",
       "4               1      Sistema       0  "
      ]
     },
     "execution_count": 2,
     "metadata": {},
     "output_type": "execute_result"
    }
   ],
   "source": [
    "# Carga de archivo\n",
    "df=pd.read_csv(\"datos_procesos.csv\", sep ='|')\n",
    "df.head()"
   ]
  },
  {
   "cell_type": "code",
   "execution_count": 3,
   "id": "economic-sewing",
   "metadata": {},
   "outputs": [
    {
     "data": {
      "text/plain": [
       "(1000000, 8)"
      ]
     },
     "execution_count": 3,
     "metadata": {},
     "output_type": "execute_result"
    }
   ],
   "source": [
    "# hay un millon de filas y 8 columnas en el archivo\n",
    "df.shape"
   ]
  },
  {
   "cell_type": "code",
   "execution_count": 4,
   "id": "entire-enforcement",
   "metadata": {},
   "outputs": [
    {
     "name": "stdout",
     "output_type": "stream",
     "text": [
      "<class 'pandas.core.frame.DataFrame'>\n",
      "RangeIndex: 1000000 entries, 0 to 999999\n",
      "Data columns (total 8 columns):\n",
      " #   Column            Non-Null Count    Dtype  \n",
      "---  ------            --------------    -----  \n",
      " 0   ID_Proceso        1000000 non-null  int64  \n",
      " 1   Uso_CPU           1000000 non-null  float64\n",
      " 2   Uso_Memoria       1000000 non-null  float64\n",
      " 3   Numero_Hilos      1000000 non-null  int64  \n",
      " 4   Tiempo_Ejecucion  1000000 non-null  float64\n",
      " 5   Numero_Errores    1000000 non-null  int64  \n",
      " 6   Tipo_Proceso      1000000 non-null  object \n",
      " 7   Estado            1000000 non-null  int64  \n",
      "dtypes: float64(3), int64(4), object(1)\n",
      "memory usage: 61.0+ MB\n"
     ]
    }
   ],
   "source": [
    "# información de columnas nombres y tipos\n",
    "df.info()"
   ]
  },
  {
   "cell_type": "code",
   "execution_count": 5,
   "id": "freelance-miniature",
   "metadata": {},
   "outputs": [
    {
     "data": {
      "text/html": [
       "<div>\n",
       "<style scoped>\n",
       "    .dataframe tbody tr th:only-of-type {\n",
       "        vertical-align: middle;\n",
       "    }\n",
       "\n",
       "    .dataframe tbody tr th {\n",
       "        vertical-align: top;\n",
       "    }\n",
       "\n",
       "    .dataframe thead th {\n",
       "        text-align: right;\n",
       "    }\n",
       "</style>\n",
       "<table border=\"1\" class=\"dataframe\">\n",
       "  <thead>\n",
       "    <tr style=\"text-align: right;\">\n",
       "      <th></th>\n",
       "      <th>count</th>\n",
       "      <th>mean</th>\n",
       "      <th>std</th>\n",
       "      <th>min</th>\n",
       "      <th>25%</th>\n",
       "      <th>50%</th>\n",
       "      <th>75%</th>\n",
       "      <th>max</th>\n",
       "    </tr>\n",
       "  </thead>\n",
       "  <tbody>\n",
       "    <tr>\n",
       "      <th>ID_Proceso</th>\n",
       "      <td>1000000.0</td>\n",
       "      <td>500000.500000</td>\n",
       "      <td>288675.278933</td>\n",
       "      <td>1.000000</td>\n",
       "      <td>250000.750000</td>\n",
       "      <td>500000.500000</td>\n",
       "      <td>750000.250000</td>\n",
       "      <td>1000000.000000</td>\n",
       "    </tr>\n",
       "    <tr>\n",
       "      <th>Uso_CPU</th>\n",
       "      <td>1000000.0</td>\n",
       "      <td>50.033449</td>\n",
       "      <td>28.859113</td>\n",
       "      <td>0.000052</td>\n",
       "      <td>25.034021</td>\n",
       "      <td>50.055597</td>\n",
       "      <td>75.009673</td>\n",
       "      <td>99.999831</td>\n",
       "    </tr>\n",
       "    <tr>\n",
       "      <th>Uso_Memoria</th>\n",
       "      <td>1000000.0</td>\n",
       "      <td>49.947866</td>\n",
       "      <td>28.851514</td>\n",
       "      <td>0.000038</td>\n",
       "      <td>24.999623</td>\n",
       "      <td>49.895350</td>\n",
       "      <td>74.924148</td>\n",
       "      <td>99.999938</td>\n",
       "    </tr>\n",
       "    <tr>\n",
       "      <th>Numero_Hilos</th>\n",
       "      <td>1000000.0</td>\n",
       "      <td>25.030640</td>\n",
       "      <td>14.150159</td>\n",
       "      <td>1.000000</td>\n",
       "      <td>13.000000</td>\n",
       "      <td>25.000000</td>\n",
       "      <td>37.000000</td>\n",
       "      <td>49.000000</td>\n",
       "    </tr>\n",
       "    <tr>\n",
       "      <th>Tiempo_Ejecucion</th>\n",
       "      <td>1000000.0</td>\n",
       "      <td>50.043250</td>\n",
       "      <td>28.829111</td>\n",
       "      <td>0.100083</td>\n",
       "      <td>25.074789</td>\n",
       "      <td>50.040186</td>\n",
       "      <td>75.030119</td>\n",
       "      <td>99.999992</td>\n",
       "    </tr>\n",
       "    <tr>\n",
       "      <th>Numero_Errores</th>\n",
       "      <td>1000000.0</td>\n",
       "      <td>5.003483</td>\n",
       "      <td>2.237005</td>\n",
       "      <td>0.000000</td>\n",
       "      <td>3.000000</td>\n",
       "      <td>5.000000</td>\n",
       "      <td>6.000000</td>\n",
       "      <td>19.000000</td>\n",
       "    </tr>\n",
       "    <tr>\n",
       "      <th>Estado</th>\n",
       "      <td>1000000.0</td>\n",
       "      <td>0.064631</td>\n",
       "      <td>0.245874</td>\n",
       "      <td>0.000000</td>\n",
       "      <td>0.000000</td>\n",
       "      <td>0.000000</td>\n",
       "      <td>0.000000</td>\n",
       "      <td>1.000000</td>\n",
       "    </tr>\n",
       "  </tbody>\n",
       "</table>\n",
       "</div>"
      ],
      "text/plain": [
       "                      count           mean            std       min  \\\n",
       "ID_Proceso        1000000.0  500000.500000  288675.278933  1.000000   \n",
       "Uso_CPU           1000000.0      50.033449      28.859113  0.000052   \n",
       "Uso_Memoria       1000000.0      49.947866      28.851514  0.000038   \n",
       "Numero_Hilos      1000000.0      25.030640      14.150159  1.000000   \n",
       "Tiempo_Ejecucion  1000000.0      50.043250      28.829111  0.100083   \n",
       "Numero_Errores    1000000.0       5.003483       2.237005  0.000000   \n",
       "Estado            1000000.0       0.064631       0.245874  0.000000   \n",
       "\n",
       "                            25%            50%            75%             max  \n",
       "ID_Proceso        250000.750000  500000.500000  750000.250000  1000000.000000  \n",
       "Uso_CPU               25.034021      50.055597      75.009673       99.999831  \n",
       "Uso_Memoria           24.999623      49.895350      74.924148       99.999938  \n",
       "Numero_Hilos          13.000000      25.000000      37.000000       49.000000  \n",
       "Tiempo_Ejecucion      25.074789      50.040186      75.030119       99.999992  \n",
       "Numero_Errores         3.000000       5.000000       6.000000       19.000000  \n",
       "Estado                 0.000000       0.000000       0.000000        1.000000  "
      ]
     },
     "execution_count": 5,
     "metadata": {},
     "output_type": "execute_result"
    }
   ],
   "source": [
    "# Distribución, frecuencias, máximos y mínimos\n",
    "df.describe().T"
   ]
  },
  {
   "cell_type": "code",
   "execution_count": 6,
   "id": "fallen-johnston",
   "metadata": {},
   "outputs": [
    {
     "data": {
      "text/plain": [
       "ID_Proceso          0\n",
       "Uso_CPU             0\n",
       "Uso_Memoria         0\n",
       "Numero_Hilos        0\n",
       "Tiempo_Ejecucion    0\n",
       "Numero_Errores      0\n",
       "Tipo_Proceso        0\n",
       "Estado              0\n",
       "dtype: int64"
      ]
     },
     "execution_count": 6,
     "metadata": {},
     "output_type": "execute_result"
    }
   ],
   "source": [
    "# revisando nulos: no hay nulos en ninguna columna\n",
    "df.isnull().sum()"
   ]
  },
  {
   "cell_type": "code",
   "execution_count": 7,
   "id": "extensive-carroll",
   "metadata": {},
   "outputs": [
    {
     "data": {
      "text/plain": [
       "ID_Proceso          1000000\n",
       "Uso_CPU             1000000\n",
       "Uso_Memoria         1000000\n",
       "Numero_Hilos             49\n",
       "Tiempo_Ejecucion    1000000\n",
       "Numero_Errores           20\n",
       "Tipo_Proceso              3\n",
       "Estado                    2\n",
       "dtype: int64"
      ]
     },
     "execution_count": 7,
     "metadata": {},
     "output_type": "execute_result"
    }
   ],
   "source": [
    "# revisando valores únicos: \n",
    "# ID_Proceso, Uso_CPU, Uso_Memoria y Tiempo_Ejecucion tienen valores unicos(no se repite ningún valor)\n",
    "# Numero_Hilos: van desde 1 a 49 (49 valores distintos)\n",
    "# Numero_errores: van desde 0 a 19 (20 valores distintos)\n",
    "# Tipo_Proceso: 3 valores distintos. Aplicación, Sistema y Servicio\n",
    "# Estado: 2 valores distintos. 0 y 1\n",
    "df.nunique()"
   ]
  },
  {
   "cell_type": "code",
   "execution_count": 8,
   "id": "hearing-venice",
   "metadata": {},
   "outputs": [
    {
     "data": {
      "image/png": "[encoded data removed]",
      "text/plain": [
       "<Figure size 1080x720 with 8 Axes>"
      ]
     },
     "metadata": {
      "needs_background": "light"
     },
     "output_type": "display_data"
    }
   ],
   "source": [
    "# gráficos de distribución y frecuencia\n",
    "plt.figure(figsize=(15,10))\n",
    "for i,col in enumerate(df.columns,1):\n",
    "    plt.subplot(4,3,i)\n",
    "    plt.title(f\"Distribution of {col} Data\")\n",
    "    sns.histplot(df[col],kde=True)\n",
    "    plt.tight_layout()\n",
    "    plt.plot()"
   ]
  },
  {
   "cell_type": "code",
   "execution_count": 9,
   "id": "elementary-culture",
   "metadata": {},
   "outputs": [
    {
     "data": {
      "text/plain": [
       "0    0.935369\n",
       "1    0.064631\n",
       "Name: Estado, dtype: float64"
      ]
     },
     "execution_count": 9,
     "metadata": {},
     "output_type": "execute_result"
    }
   ],
   "source": [
    "df.Estado.value_counts(\n",
    "    normalize = True # Normalizamos el resultado para obtener la proporción de las clases.\n",
    ")"
   ]
  },
  {
   "cell_type": "markdown",
   "id": "sorted-ethics",
   "metadata": {},
   "source": [
    "Sólo el 6.5 % de las observaciones pertenece a la clase 1(proceso problemático). <b> Será necesario hacer un balanceo"
   ]
  },
  {
   "cell_type": "code",
   "execution_count": 10,
   "id": "chemical-corps",
   "metadata": {},
   "outputs": [
    {
     "data": {
      "image/png": "[encoded data removed]",
      "text/plain": [
       "<Figure size 1080x720 with 2 Axes>"
      ]
     },
     "metadata": {
      "needs_background": "light"
     },
     "output_type": "display_data"
    }
   ],
   "source": [
    "# Gráfico de correlación\n",
    "plt.figure(figsize=(15, 10))\n",
    "\n",
    "sns.heatmap(df.corr(), annot=True, fmt='.2f', cmap='Pastel2', linewidths=2)\n",
    " \n",
    "plt.title('Correlation Heatmap')\n",
    "plt.show()"
   ]
  },
  {
   "cell_type": "markdown",
   "id": "continent-positive",
   "metadata": {},
   "source": [
    "#### Se observa una pequena correlación entre la variable estado y las variables: Uso_CPU, Uso_Memoria y Tiempo de Ejecución."
   ]
  },
  {
   "cell_type": "code",
   "execution_count": 11,
   "id": "intense-toilet",
   "metadata": {},
   "outputs": [
    {
     "name": "stdout",
     "output_type": "stream",
     "text": [
      "AxesSubplot(0.125,0.125;0.775x0.755)\n"
     ]
    },
    {
     "data": {
      "image/png": "[encoded data removed]",
      "text/plain": [
       "<Figure size 432x288 with 1 Axes>"
      ]
     },
     "metadata": {
      "needs_background": "light"
     },
     "output_type": "display_data"
    },
    {
     "name": "stdout",
     "output_type": "stream",
     "text": [
      "AxesSubplot(0.125,0.125;0.775x0.755)\n"
     ]
    },
    {
     "data": {
      "image/png": "[encoded data removed]",
      "text/plain": [
       "<Figure size 432x288 with 1 Axes>"
      ]
     },
     "metadata": {
      "needs_background": "light"
     },
     "output_type": "display_data"
    },
    {
     "name": "stdout",
     "output_type": "stream",
     "text": [
      "AxesSubplot(0.125,0.125;0.775x0.755)\n"
     ]
    },
    {
     "data": {
      "image/png": "[encoded data removed]",
      "text/plain": [
       "<Figure size 432x288 with 1 Axes>"
      ]
     },
     "metadata": {
      "needs_background": "light"
     },
     "output_type": "display_data"
    },
    {
     "name": "stdout",
     "output_type": "stream",
     "text": [
      "AxesSubplot(0.125,0.125;0.775x0.755)\n"
     ]
    },
    {
     "data": {
      "image/png": "[encoded data removed]",
      "text/plain": [
       "<Figure size 432x288 with 1 Axes>"
      ]
     },
     "metadata": {
      "needs_background": "light"
     },
     "output_type": "display_data"
    },
    {
     "name": "stdout",
     "output_type": "stream",
     "text": [
      "AxesSubplot(0.125,0.125;0.775x0.755)\n"
     ]
    },
    {
     "data": {
      "image/png": "[encoded data removed]",
      "text/plain": [
       "<Figure size 432x288 with 1 Axes>"
      ]
     },
     "metadata": {
      "needs_background": "light"
     },
     "output_type": "display_data"
    }
   ],
   "source": [
    "# Box plots\n",
    "for col in df.columns.tolist():\n",
    "    if col == 'Tipo_Proceso' or col == 'Estado' or col == 'ID_Proceso':\n",
    "        continue\n",
    "    else:\n",
    "        print(sns.boxplot(df[col]))\n",
    "        plt.show()"
   ]
  },
  {
   "cell_type": "markdown",
   "id": "minor-packaging",
   "metadata": {},
   "source": [
    "#### Podriamos considerar outliers los procesos con 14 o mas errores, ya cada uno representa menos del 0.05% de la población. Se podrían borrar o no. En este caso no borraremos estos registros."
   ]
  },
  {
   "cell_type": "code",
   "execution_count": 12,
   "id": "brief-marking",
   "metadata": {},
   "outputs": [
    {
     "data": {
      "text/html": [
       "<div>\n",
       "<style scoped>\n",
       "    .dataframe tbody tr th:only-of-type {\n",
       "        vertical-align: middle;\n",
       "    }\n",
       "\n",
       "    .dataframe tbody tr th {\n",
       "        vertical-align: top;\n",
       "    }\n",
       "\n",
       "    .dataframe thead th {\n",
       "        text-align: right;\n",
       "    }\n",
       "</style>\n",
       "<table border=\"1\" class=\"dataframe\">\n",
       "  <thead>\n",
       "    <tr style=\"text-align: right;\">\n",
       "      <th></th>\n",
       "      <th>index</th>\n",
       "      <th>Numero_Errores</th>\n",
       "    </tr>\n",
       "  </thead>\n",
       "  <tbody>\n",
       "    <tr>\n",
       "      <th>10</th>\n",
       "      <td>11</td>\n",
       "      <td>0.8352</td>\n",
       "    </tr>\n",
       "    <tr>\n",
       "      <th>12</th>\n",
       "      <td>12</td>\n",
       "      <td>0.3401</td>\n",
       "    </tr>\n",
       "    <tr>\n",
       "      <th>13</th>\n",
       "      <td>13</td>\n",
       "      <td>0.1364</td>\n",
       "    </tr>\n",
       "    <tr>\n",
       "      <th>14</th>\n",
       "      <td>14</td>\n",
       "      <td>0.0433</td>\n",
       "    </tr>\n",
       "    <tr>\n",
       "      <th>15</th>\n",
       "      <td>15</td>\n",
       "      <td>0.0171</td>\n",
       "    </tr>\n",
       "    <tr>\n",
       "      <th>16</th>\n",
       "      <td>16</td>\n",
       "      <td>0.0064</td>\n",
       "    </tr>\n",
       "    <tr>\n",
       "      <th>17</th>\n",
       "      <td>17</td>\n",
       "      <td>0.0014</td>\n",
       "    </tr>\n",
       "    <tr>\n",
       "      <th>18</th>\n",
       "      <td>18</td>\n",
       "      <td>0.0005</td>\n",
       "    </tr>\n",
       "    <tr>\n",
       "      <th>19</th>\n",
       "      <td>19</td>\n",
       "      <td>0.0001</td>\n",
       "    </tr>\n",
       "  </tbody>\n",
       "</table>\n",
       "</div>"
      ],
      "text/plain": [
       "    index  Numero_Errores\n",
       "10     11          0.8352\n",
       "12     12          0.3401\n",
       "13     13          0.1364\n",
       "14     14          0.0433\n",
       "15     15          0.0171\n",
       "16     16          0.0064\n",
       "17     17          0.0014\n",
       "18     18          0.0005\n",
       "19     19          0.0001"
      ]
     },
     "execution_count": 12,
     "metadata": {},
     "output_type": "execute_result"
    }
   ],
   "source": [
    "# Calculando el porcentaje de la población que representa cada valor de la variable Numero_Errores\n",
    "df_res = df['Numero_Errores'].value_counts(normalize=True).reset_index()\n",
    "df_res['Numero_Errores'] = df_res['Numero_Errores']*100\n",
    "df_res[df_res['index']>10]"
   ]
  },
  {
   "cell_type": "markdown",
   "id": "graphic-franchise",
   "metadata": {},
   "source": [
    "## 2) Preprocesamiento de Datos:\n",
    "\n",
    "Limpieza: Maneje valores faltantes y elimine duplicados si los hay.\n",
    "Codificación de variables categóricas: Utilice técnicas como One-Hot Encoding para convertir Tipo_Proceso en variables numéricas.\n",
    "Escalado de características: Normalice o escale las características numéricas para que tengan el mismo rango de valores, lo cual es importante para algunos modelos de clasificación."
   ]
  },
  {
   "cell_type": "code",
   "execution_count": 13,
   "id": "arbitrary-richards",
   "metadata": {},
   "outputs": [
    {
     "data": {
      "text/plain": [
       "1000000"
      ]
     },
     "execution_count": 13,
     "metadata": {},
     "output_type": "execute_result"
    }
   ],
   "source": [
    "# Revisando si hay procesos con datos duplicados\n",
    "df = df.drop_duplicates(subset = ['ID_Proceso'])\n",
    "len(df)"
   ]
  },
  {
   "cell_type": "markdown",
   "id": "documented-madrid",
   "metadata": {},
   "source": [
    "#### No hay valores faltantes ni duplicados"
   ]
  },
  {
   "cell_type": "code",
   "execution_count": 14,
   "id": "secondary-junction",
   "metadata": {},
   "outputs": [
    {
     "name": "stdout",
     "output_type": "stream",
     "text": [
      "0         Aplicación\n",
      "1         Aplicación\n",
      "2         Aplicación\n",
      "3         Aplicación\n",
      "4            Sistema\n",
      "             ...    \n",
      "999995      Servicio\n",
      "999996       Sistema\n",
      "999997       Sistema\n",
      "999998      Servicio\n",
      "999999       Sistema\n",
      "Name: Tipo_Proceso, Length: 1000000, dtype: object\n",
      "0         0\n",
      "1         0\n",
      "2         0\n",
      "3         0\n",
      "4         2\n",
      "         ..\n",
      "999995    1\n",
      "999996    2\n",
      "999997    2\n",
      "999998    1\n",
      "999999    2\n",
      "Name: Tipo_Proceso, Length: 1000000, dtype: int32\n"
     ]
    }
   ],
   "source": [
    "# Aplicando Enconding\n",
    "from sklearn.preprocessing import LabelEncoder\n",
    "\n",
    "print(df['Tipo_Proceso'])\n",
    "le = LabelEncoder()\n",
    "df['Tipo_Proceso'] = le.fit_transform(df['Tipo_Proceso'])\n",
    "print(df['Tipo_Proceso'])\n",
    "\n",
    "#se puede observar que los valores de la variable Tipo_Proceso se codificaron con los valores: 0,1,2"
   ]
  },
  {
   "cell_type": "code",
   "execution_count": 15,
   "id": "friendly-postcard",
   "metadata": {},
   "outputs": [
    {
     "data": {
      "text/html": [
       "<div>\n",
       "<style scoped>\n",
       "    .dataframe tbody tr th:only-of-type {\n",
       "        vertical-align: middle;\n",
       "    }\n",
       "\n",
       "    .dataframe tbody tr th {\n",
       "        vertical-align: top;\n",
       "    }\n",
       "\n",
       "    .dataframe thead th {\n",
       "        text-align: right;\n",
       "    }\n",
       "</style>\n",
       "<table border=\"1\" class=\"dataframe\">\n",
       "  <thead>\n",
       "    <tr style=\"text-align: right;\">\n",
       "      <th></th>\n",
       "      <th>Uso_CPU</th>\n",
       "      <th>Uso_Memoria</th>\n",
       "      <th>Numero_Hilos</th>\n",
       "      <th>Tiempo_Ejecucion</th>\n",
       "      <th>Numero_Errores</th>\n",
       "      <th>Tipo_Proceso</th>\n",
       "      <th>ID_Proceso</th>\n",
       "      <th>Estado</th>\n",
       "    </tr>\n",
       "  </thead>\n",
       "  <tbody>\n",
       "    <tr>\n",
       "      <th>0</th>\n",
       "      <td>-0.435892</td>\n",
       "      <td>0.331619</td>\n",
       "      <td>-0.638201</td>\n",
       "      <td>-1.451949</td>\n",
       "      <td>-0.895610</td>\n",
       "      <td>0</td>\n",
       "      <td>1</td>\n",
       "      <td>0</td>\n",
       "    </tr>\n",
       "    <tr>\n",
       "      <th>1</th>\n",
       "      <td>1.560616</td>\n",
       "      <td>-0.467087</td>\n",
       "      <td>-0.496860</td>\n",
       "      <td>0.907139</td>\n",
       "      <td>1.339523</td>\n",
       "      <td>0</td>\n",
       "      <td>2</td>\n",
       "      <td>0</td>\n",
       "    </tr>\n",
       "    <tr>\n",
       "      <th>2</th>\n",
       "      <td>0.802726</td>\n",
       "      <td>-1.712573</td>\n",
       "      <td>-0.284848</td>\n",
       "      <td>-0.105869</td>\n",
       "      <td>-0.895610</td>\n",
       "      <td>0</td>\n",
       "      <td>3</td>\n",
       "      <td>0</td>\n",
       "    </tr>\n",
       "    <tr>\n",
       "      <th>3</th>\n",
       "      <td>0.340704</td>\n",
       "      <td>0.213539</td>\n",
       "      <td>0.209847</td>\n",
       "      <td>1.312600</td>\n",
       "      <td>-0.448584</td>\n",
       "      <td>0</td>\n",
       "      <td>4</td>\n",
       "      <td>0</td>\n",
       "    </tr>\n",
       "    <tr>\n",
       "      <th>4</th>\n",
       "      <td>-1.193093</td>\n",
       "      <td>1.376330</td>\n",
       "      <td>0.987223</td>\n",
       "      <td>-1.575514</td>\n",
       "      <td>-1.789663</td>\n",
       "      <td>2</td>\n",
       "      <td>5</td>\n",
       "      <td>0</td>\n",
       "    </tr>\n",
       "  </tbody>\n",
       "</table>\n",
       "</div>"
      ],
      "text/plain": [
       "    Uso_CPU  Uso_Memoria  Numero_Hilos  Tiempo_Ejecucion  Numero_Errores  \\\n",
       "0 -0.435892     0.331619     -0.638201         -1.451949       -0.895610   \n",
       "1  1.560616    -0.467087     -0.496860          0.907139        1.339523   \n",
       "2  0.802726    -1.712573     -0.284848         -0.105869       -0.895610   \n",
       "3  0.340704     0.213539      0.209847          1.312600       -0.448584   \n",
       "4 -1.193093     1.376330      0.987223         -1.575514       -1.789663   \n",
       "\n",
       "   Tipo_Proceso  ID_Proceso  Estado  \n",
       "0             0           1       0  \n",
       "1             0           2       0  \n",
       "2             0           3       0  \n",
       "3             0           4       0  \n",
       "4             2           5       0  "
      ]
     },
     "execution_count": 15,
     "metadata": {},
     "output_type": "execute_result"
    }
   ],
   "source": [
    "# Aplicando escalado\n",
    "from sklearn.preprocessing import StandardScaler\n",
    "\n",
    "# solo vamos a aplicar el escalado a las variables independientes numericas, se deja de lado ID_proceso\n",
    "# ya que no predice es solo un id, tambien estado ya que es la variable a predecir\n",
    "cols = df.iloc[:, [1,2,3,4,5]].columns\n",
    "scaled_features = StandardScaler().fit_transform(df.iloc[:, [1,2,3,4,5]].values)\n",
    "scaled_features_df = pd.DataFrame(scaled_features, index=df.index, columns=cols)\n",
    "\n",
    "# agregamos al nuevo data frame las variable que no se escalaron\n",
    "scaled_features_df['Tipo_Proceso'] = df['Tipo_Proceso']\n",
    "scaled_features_df['ID_Proceso'] = df['ID_Proceso']\n",
    "scaled_features_df['Estado'] = df['Estado']\n",
    "\n",
    "# se muestran las variables escaladas\n",
    "scaled_features_df.head()"
   ]
  },
  {
   "cell_type": "code",
   "execution_count": 16,
   "id": "architectural-basis",
   "metadata": {},
   "outputs": [
    {
     "data": {
      "text/html": [
       "<div>\n",
       "<style scoped>\n",
       "    .dataframe tbody tr th:only-of-type {\n",
       "        vertical-align: middle;\n",
       "    }\n",
       "\n",
       "    .dataframe tbody tr th {\n",
       "        vertical-align: top;\n",
       "    }\n",
       "\n",
       "    .dataframe thead th {\n",
       "        text-align: right;\n",
       "    }\n",
       "</style>\n",
       "<table border=\"1\" class=\"dataframe\">\n",
       "  <thead>\n",
       "    <tr style=\"text-align: right;\">\n",
       "      <th></th>\n",
       "      <th>count</th>\n",
       "      <th>mean</th>\n",
       "      <th>std</th>\n",
       "      <th>min</th>\n",
       "      <th>25%</th>\n",
       "      <th>50%</th>\n",
       "      <th>75%</th>\n",
       "      <th>max</th>\n",
       "    </tr>\n",
       "  </thead>\n",
       "  <tbody>\n",
       "    <tr>\n",
       "      <th>Uso_CPU</th>\n",
       "      <td>1000000.0</td>\n",
       "      <td>5.966680e-16</td>\n",
       "      <td>1.000001</td>\n",
       "      <td>-1.733713</td>\n",
       "      <td>-0.866258</td>\n",
       "      <td>0.000767</td>\n",
       "      <td>0.865454</td>\n",
       "      <td>1.731391</td>\n",
       "    </tr>\n",
       "    <tr>\n",
       "      <th>Uso_Memoria</th>\n",
       "      <td>1000000.0</td>\n",
       "      <td>-8.047275e-16</td>\n",
       "      <td>1.000001</td>\n",
       "      <td>-1.731204</td>\n",
       "      <td>-0.864712</td>\n",
       "      <td>-0.001820</td>\n",
       "      <td>0.865684</td>\n",
       "      <td>1.734817</td>\n",
       "    </tr>\n",
       "    <tr>\n",
       "      <th>Numero_Hilos</th>\n",
       "      <td>1000000.0</td>\n",
       "      <td>8.492173e-16</td>\n",
       "      <td>1.000001</td>\n",
       "      <td>-1.698260</td>\n",
       "      <td>-0.850213</td>\n",
       "      <td>-0.002165</td>\n",
       "      <td>0.845882</td>\n",
       "      <td>1.693930</td>\n",
       "    </tr>\n",
       "    <tr>\n",
       "      <th>Tiempo_Ejecucion</th>\n",
       "      <td>1000000.0</td>\n",
       "      <td>2.672313e-16</td>\n",
       "      <td>1.000001</td>\n",
       "      <td>-1.732388</td>\n",
       "      <td>-0.866085</td>\n",
       "      <td>-0.000106</td>\n",
       "      <td>0.866724</td>\n",
       "      <td>1.732858</td>\n",
       "    </tr>\n",
       "    <tr>\n",
       "      <th>Numero_Errores</th>\n",
       "      <td>1000000.0</td>\n",
       "      <td>-1.674931e-15</td>\n",
       "      <td>1.000000</td>\n",
       "      <td>-2.236690</td>\n",
       "      <td>-0.895610</td>\n",
       "      <td>-0.001557</td>\n",
       "      <td>0.445470</td>\n",
       "      <td>6.256815</td>\n",
       "    </tr>\n",
       "    <tr>\n",
       "      <th>Tipo_Proceso</th>\n",
       "      <td>1000000.0</td>\n",
       "      <td>9.999930e-01</td>\n",
       "      <td>0.816037</td>\n",
       "      <td>0.000000</td>\n",
       "      <td>0.000000</td>\n",
       "      <td>1.000000</td>\n",
       "      <td>2.000000</td>\n",
       "      <td>2.000000</td>\n",
       "    </tr>\n",
       "    <tr>\n",
       "      <th>ID_Proceso</th>\n",
       "      <td>1000000.0</td>\n",
       "      <td>5.000005e+05</td>\n",
       "      <td>288675.278933</td>\n",
       "      <td>1.000000</td>\n",
       "      <td>250000.750000</td>\n",
       "      <td>500000.500000</td>\n",
       "      <td>750000.250000</td>\n",
       "      <td>1000000.000000</td>\n",
       "    </tr>\n",
       "    <tr>\n",
       "      <th>Estado</th>\n",
       "      <td>1000000.0</td>\n",
       "      <td>6.463100e-02</td>\n",
       "      <td>0.245874</td>\n",
       "      <td>0.000000</td>\n",
       "      <td>0.000000</td>\n",
       "      <td>0.000000</td>\n",
       "      <td>0.000000</td>\n",
       "      <td>1.000000</td>\n",
       "    </tr>\n",
       "  </tbody>\n",
       "</table>\n",
       "</div>"
      ],
      "text/plain": [
       "                      count          mean            std       min  \\\n",
       "Uso_CPU           1000000.0  5.966680e-16       1.000001 -1.733713   \n",
       "Uso_Memoria       1000000.0 -8.047275e-16       1.000001 -1.731204   \n",
       "Numero_Hilos      1000000.0  8.492173e-16       1.000001 -1.698260   \n",
       "Tiempo_Ejecucion  1000000.0  2.672313e-16       1.000001 -1.732388   \n",
       "Numero_Errores    1000000.0 -1.674931e-15       1.000000 -2.236690   \n",
       "Tipo_Proceso      1000000.0  9.999930e-01       0.816037  0.000000   \n",
       "ID_Proceso        1000000.0  5.000005e+05  288675.278933  1.000000   \n",
       "Estado            1000000.0  6.463100e-02       0.245874  0.000000   \n",
       "\n",
       "                            25%            50%            75%             max  \n",
       "Uso_CPU               -0.866258       0.000767       0.865454        1.731391  \n",
       "Uso_Memoria           -0.864712      -0.001820       0.865684        1.734817  \n",
       "Numero_Hilos          -0.850213      -0.002165       0.845882        1.693930  \n",
       "Tiempo_Ejecucion      -0.866085      -0.000106       0.866724        1.732858  \n",
       "Numero_Errores        -0.895610      -0.001557       0.445470        6.256815  \n",
       "Tipo_Proceso           0.000000       1.000000       2.000000        2.000000  \n",
       "ID_Proceso        250000.750000  500000.500000  750000.250000  1000000.000000  \n",
       "Estado                 0.000000       0.000000       0.000000        1.000000  "
      ]
     },
     "execution_count": 16,
     "metadata": {},
     "output_type": "execute_result"
    }
   ],
   "source": [
    "scaled_features_df.describe().T\n",
    "# podemos ver que la desviación estandar es 1 y la media es cercana a 0 para todas las variables, \n",
    "# lo cual indica que el escalado se aplicó correctamente"
   ]
  },
  {
   "cell_type": "markdown",
   "id": "attractive-retention",
   "metadata": {},
   "source": [
    "## 3) Selección y División del Conjunto de Datos: \n",
    "\n",
    "Divida el conjunto de datos en entrenamiento, validación y prueba para evaluar la efectividad del modelo."
   ]
  },
  {
   "cell_type": "code",
   "execution_count": 48,
   "id": "north-orientation",
   "metadata": {},
   "outputs": [],
   "source": [
    "# División de los datos en entrenamiento y prueba\n",
    "from sklearn.model_selection import train_test_split\n",
    "\n",
    "X = scaled_features_df.iloc[:, [0,1,2,3,4,5]]# dejamos por fuera el ID_Proceso\n",
    "y = scaled_features_df['Estado']\n",
    "\n",
    "# los datos de test tendrán el 20% del total de la poblacion, los de entrenamiento el 70%\n",
    "X_train, X_test, y_train, y_test = train_test_split(X, y, test_size=0.25, random_state=0)"
   ]
  },
  {
   "cell_type": "markdown",
   "id": "cultural-rotation",
   "metadata": {},
   "source": [
    "#### Synthetic Minority Oversampling Technique + Submuestro de la clase mayoritaria + Balanceo parcial del conjunto de datos"
   ]
  },
  {
   "cell_type": "markdown",
   "id": "comfortable-faculty",
   "metadata": {},
   "source": [
    "Los autores de SMOTE recomiendan realizar paralelamente un submuestreo de la clase mayoritaria para poder obtener mejores resultados"
   ]
  },
  {
   "cell_type": "code",
   "execution_count": 63,
   "id": "dangerous-sunrise",
   "metadata": {},
   "outputs": [],
   "source": [
    "import imblearn # Bilioteca para aprendizaje desde datos desbalanceados\n",
    "\n",
    "sm = imblearn.over_sampling.SMOTE(sampling_strategy=0.3,random_state=11) # Hacemos SMOTe hasta obtener un balance de 30% de la clase minoritaria\n",
    "rus = imblearn.under_sampling.RandomUnderSampler(sampling_strategy=0.5,random_state=11) # Hacemos submuestreo hasta obtener un balance del 50%\n",
    "steps = [('SMOTE', sm), ('RUS', rus)] # Ponemos ambos pasos\n",
    "sm_rus = imblearn.pipeline.Pipeline(steps=steps) # Creamos un pipeline para realizar ambas tareas\n",
    "X_train_sm_rus, y_train_sm_rus = sm_rus.fit_resample(X_train, y_train)"
   ]
  },
  {
   "cell_type": "code",
   "execution_count": 64,
   "id": "mental-death",
   "metadata": {},
   "outputs": [
    {
     "data": {
      "text/plain": [
       "(631341, 6)"
      ]
     },
     "execution_count": 64,
     "metadata": {},
     "output_type": "execute_result"
    }
   ],
   "source": [
    "X_train_sm_rus.shape"
   ]
  },
  {
   "cell_type": "code",
   "execution_count": 65,
   "id": "wanted-metallic",
   "metadata": {},
   "outputs": [
    {
     "data": {
      "text/plain": [
       "(631341,)"
      ]
     },
     "execution_count": 65,
     "metadata": {},
     "output_type": "execute_result"
    }
   ],
   "source": [
    "y_train_sm_rus.shape"
   ]
  },
  {
   "cell_type": "markdown",
   "id": "backed-easter",
   "metadata": {},
   "source": [
    "## 4) Construcción y Evaluación de Modelos:\n",
    "\n",
    "Pruebe diferentes algoritmos de clasificación (por ejemplo, Regresión Logística, Árboles de Decisión, Bosques Aleatorios, y Máquinas de Soporte Vectorial) para encontrar el más adecuado.\n",
    "Utilice validación cruzada para optimizar los hiperparámetros y evaluar la robustez del modelo.\n",
    "Evalúe el modelo final utilizando el conjunto de prueba y métricas adecuadas (precisión, recall, puntuación F1, y curva ROC)."
   ]
  },
  {
   "cell_type": "code",
   "execution_count": 68,
   "id": "described-commons",
   "metadata": {},
   "outputs": [
    {
     "name": "stdout",
     "output_type": "stream",
     "text": [
      "              precision    recall  f1-score   support\n",
      "\n",
      "           0       0.99      0.91      0.95    233876\n",
      "           1       0.41      0.85      0.55     16124\n",
      "\n",
      "    accuracy                           0.91    250000\n",
      "   macro avg       0.70      0.88      0.75    250000\n",
      "weighted avg       0.95      0.91      0.92    250000\n",
      "\n",
      "              precision    recall  f1-score   support\n",
      "\n",
      "           0       0.98      0.93      0.95    233876\n",
      "           1       0.41      0.72      0.53     16124\n",
      "\n",
      "    accuracy                           0.92    250000\n",
      "   macro avg       0.70      0.83      0.74    250000\n",
      "weighted avg       0.94      0.92      0.93    250000\n",
      "\n",
      "              precision    recall  f1-score   support\n",
      "\n",
      "           0       0.99      0.94      0.96    233876\n",
      "           1       0.49      0.82      0.61     16124\n",
      "\n",
      "    accuracy                           0.93    250000\n",
      "   macro avg       0.74      0.88      0.79    250000\n",
      "weighted avg       0.95      0.93      0.94    250000\n",
      "\n",
      "              precision    recall  f1-score   support\n",
      "\n",
      "           0       0.99      0.93      0.96    233876\n",
      "           1       0.46      0.87      0.60     16124\n",
      "\n",
      "    accuracy                           0.92    250000\n",
      "   macro avg       0.72      0.90      0.78    250000\n",
      "weighted avg       0.96      0.92      0.94    250000\n",
      "\n",
      "              precision    recall  f1-score   support\n",
      "\n",
      "           0       0.99      0.93      0.96    233876\n",
      "           1       0.46      0.86      0.60     16124\n",
      "\n",
      "    accuracy                           0.93    250000\n",
      "   macro avg       0.72      0.89      0.78    250000\n",
      "weighted avg       0.96      0.93      0.94    250000\n",
      "\n",
      "                     Accuracy  Precision    Recall  F1 Score   ROC AUC\n",
      "Logistic Regression  0.910284   0.406334  0.848177  0.549447  0.881371\n",
      "Decision Tree        0.916076   0.413696  0.721967  0.525992  0.825713\n",
      "Random Forest        0.932284   0.485194  0.818035  0.609111  0.879098\n",
      "Gradient Boosting    0.924388   0.455109  0.873667  0.598466  0.900776\n",
      "AdaBoost             0.925692   0.459175  0.855557  0.597613  0.893042\n"
     ]
    }
   ],
   "source": [
    "from sklearn.metrics import accuracy_score, precision_score, recall_score, f1_score, roc_auc_score, classification_report\n",
    "from sklearn.linear_model import LogisticRegression\n",
    "from sklearn.tree import DecisionTreeClassifier\n",
    "from sklearn.svm import SVC\n",
    "from sklearn.ensemble import RandomForestClassifier, GradientBoostingClassifier, AdaBoostClassifier\n",
    "\n",
    "# Entrenamiento y evaluación de los modelos\n",
    "models = {\n",
    "    \"Logistic Regression\": LogisticRegression(),\n",
    "    \"Decision Tree\": DecisionTreeClassifier(),\n",
    "    \"Random Forest\": RandomForestClassifier(),\n",
    "    #\"SVM\" : SVC(kernel='linear'),\n",
    "    \"Gradient Boosting\": GradientBoostingClassifier(),\n",
    "    \"AdaBoost\": AdaBoostClassifier()\n",
    "}\n",
    "\n",
    "# aqui se guardaran las métricas de cada modelo\n",
    "results = pd.DataFrame(columns=[\"Accuracy\", \"Precision\", \"Recall\", \"F1 Score\", \"ROC AUC\"])\n",
    "\n",
    "# Se calculan las 5 metricas por cada modelo:\n",
    "for name, model in models.items():\n",
    "    model.fit(X_train_sm_rus, y_train_sm_rus)\n",
    "    y_pred = model.predict(X_test)\n",
    "    accuracy = accuracy_score(y_test, y_pred)\n",
    "    precision = precision_score(y_test, y_pred)\n",
    "    recall = recall_score(y_test, y_pred)\n",
    "    f1 = f1_score(y_test, y_pred)\n",
    "    roc_auc = roc_auc_score(y_test, y_pred)\n",
    "    results.loc[name] = [accuracy, precision, recall, f1, roc_auc]\n",
    "    print(classification_report(y_test, y_pred))\n",
    "\n",
    "# Muestra los resultados\n",
    "print(results)"
   ]
  },
  {
   "cell_type": "markdown",
   "id": "trying-concert",
   "metadata": {},
   "source": [
    "El modelo mas adecuado y equilibrado para este problema es el Gradient Boosting ya que cuenta con el más alto Recall, en este caso es importante esta métrica ya que necesitamos identificar le mayor número posible de procesos problemáticos, se pueden generar algunos errores de indentificación por el bajo puntaje de Precision pero todos los demás modelos tienen puntaje mas bajo (a excepción de Random Forest). El Gradient Bossting tambien cuenta con el ROC_AUC mas alto lo cual tambien indica que es un buen Clasificador, en cuanto al Accuracy tiene el segundo puntaje mas alto."
   ]
  },
  {
   "cell_type": "code",
   "execution_count": 69,
   "id": "swedish-rhythm",
   "metadata": {},
   "outputs": [
    {
     "name": "stdout",
     "output_type": "stream",
     "text": [
      "                     Accuracy  Precision    Recall  F1 Score   ROC AUC\n",
      "Logistic Regression  0.896116   0.835378  0.857294  0.846193  0.961170\n",
      "Decision Tree        0.908585   0.856842  0.872151  0.864330  0.899309\n",
      "Random Forest        0.939079   0.884808  0.939528  0.911247  0.983806\n",
      "Gradient Boosting    0.916180   0.861955  0.891284  0.876374  0.973289\n",
      "AdaBoost             0.911729   0.864763  0.871485  0.868108  0.971403\n"
     ]
    }
   ],
   "source": [
    "# Aplicando K-fold cross-validation\n",
    "from sklearn.model_selection import cross_val_score, KFold\n",
    "\n",
    "scoring_list = ['accuracy','precision','recall','f1','roc_auc'] # lista de métricas a calcular\n",
    "results_t = [] # lista para guardar los resultados de la media de cada métrica\n",
    "results_mean = pd.DataFrame(columns=[\"Accuracy\", \"Precision\", \"Recall\", \"F1 Score\", \"ROC AUC\"]) # lista resultados totales\n",
    "num_folds = 5 # de datasets de entrenamiento y prueba\n",
    "\n",
    "# Validador cruzado K-Fold.\n",
    "# Proporciona índices de entrenamiento/prueba para dividir datos en conjuntos de entrenamiento/prueba. \n",
    "# Divida el conjunto de datos en k pliegues consecutivos (sin barajar de forma predeterminada).\n",
    "# Luego, cada pliegue se usa una vez como validación, mientras que los k - 1 pliegues restantes forman \n",
    "# el conjunto de entrenamiento.\n",
    "kf = KFold(n_splits=num_folds, shuffle=True, random_state=42) \n",
    "# random_state es para obtener una salida reproducible en multiples llamadas\n",
    "\n",
    "for name, model in models.items():\n",
    "    for metric in scoring_list:\n",
    "        cross_val_results = cross_val_score(model, X_train_sm_rus, y_train_sm_rus, cv=kf, scoring = metric, n_jobs=-1) #Evalua una metrica mediante validación cruzada.\n",
    "        results_t.append(cross_val_results.mean())\n",
    "   \n",
    "    results_mean.loc[name] = results_t\n",
    "    results_t = []\n",
    "\n",
    "# Muestra los resultados (media de cada métrica)\n",
    "print(results_mean)"
   ]
  },
  {
   "cell_type": "markdown",
   "id": "constant-tactics",
   "metadata": {},
   "source": [
    "Despues de aplicar la validación cruzada los valores de Precision y el F1 para todos los modelos aumentaron bastante, esto es debido al Balanceo y la mismo algoritmo de validacion cruzada ya que entrena los modelos con varias combinaciones(N de Folds) de datos basadas en la data de entrenamiento ya balanceada. Es este caso escogeria el Random Forest es que que tiene las métricas mas altas."
   ]
  },
  {
   "cell_type": "markdown",
   "id": "annoying-determination",
   "metadata": {},
   "source": [
    "## 5) Interpretación de Resultados y Conclusiones: \n",
    "Interprete los resultados del modelo en el contexto del problema. Identifique las características más importantes que influyen en la predicción de procesos problemáticos y discuta cómo se puede utilizar el modelo en un entorno de producción."
   ]
  },
  {
   "cell_type": "markdown",
   "id": "removable-handling",
   "metadata": {},
   "source": [
    "#### Variables que mas influyen en la predicción"
   ]
  },
  {
   "cell_type": "code",
   "execution_count": null,
   "id": "civilian-anxiety",
   "metadata": {},
   "outputs": [],
   "source": [
    "import shap\n",
    "\n",
    "# Visualización de las características más importantes usando SHAP\n",
    "explainer = shap.Explainer(models[\"Gradient Boosting\"].predict, X_train)\n",
    "shap_values = explainer(X_test)\n",
    "shap.summary_plot(shap_values, X_test)"
   ]
  },
  {
   "cell_type": "code",
   "execution_count": 71,
   "id": "outstanding-technology",
   "metadata": {},
   "outputs": [
    {
     "data": {
      "image/png": "[encoded data removed]",
      "text/plain": [
       "<Figure size 576x324 with 1 Axes>"
      ]
     },
     "metadata": {},
     "output_type": "display_data"
    }
   ],
   "source": [
    "shap.plots.bar(shap_values)"
   ]
  },
  {
   "cell_type": "markdown",
   "id": "interim-tamil",
   "metadata": {},
   "source": [
    "#### Usando Shap podemos observar que las variables mas influyentes en la predicción de procesos problemáticos son: Uso_CPU y Uso_Memoria, esto ya lo habiamos observado en la matriz de correlación. El presente modelo se puede utilizar en un servidor para optimizar su rendimiento asegurando siempre que sólo se ejecuten procesos no problemáticos y así evitando el mal uso de los recursos: memoria y CPU."
   ]
  },
  {
   "cell_type": "markdown",
   "id": "enabling-instrumentation",
   "metadata": {},
   "source": [
    "## Glosario"
   ]
  },
  {
   "cell_type": "markdown",
   "id": "bottom-atlas",
   "metadata": {},
   "source": [
    "### Accuracy\n",
    "Es una métrica de ML que mide la proporción de predicciones correctas realizadas por un modelo sobre el número total de predicciones realizadas. Es una de las métricas más utilizadas para evaluar el desempeño de un modelo de clasificación.\n",
    "\n",
    "<b>Accuracy = (# de prediciones correctas) / (# total de predicciones)"
   ]
  },
  {
   "cell_type": "markdown",
   "id": "entire-insured",
   "metadata": {},
   "source": [
    "### Recall\n",
    "Esto también se le llama Sensibilidad. Esto indica de todas las instancias que realmente pertenecen a una clase (Verdaderos Positivos + Falsos Negativos), cuántas se clasificaron correctamente. Esto indica la capacidad de un modelo para clasificar correctamente las instancias de una clase particular.\n",
    "\n",
    "<b>Recall = Verdaderos Positivos / (Verdaderos Positivos + Falsos Negativos)"
   ]
  },
  {
   "cell_type": "markdown",
   "id": "virtual-detection",
   "metadata": {},
   "source": [
    "### Precision\n",
    "Esta métrica mide de todas las instancias clasificadas con una clase particular (verdaderos positivos + falsos positivos) cuántas instancias realmente pertenecen a la clase. Si nuestro modelo clasifica algo como positivo, la precisión indica qué tan seguros podemos estar de que realmente es positivo.\n",
    "\n",
    "<b>Precision = Verdaderos Positivos / (Verdaderos Positivos + Falsos Positivos)"
   ]
  },
  {
   "cell_type": "markdown",
   "id": "certain-layout",
   "metadata": {},
   "source": [
    "### F1 score\n",
    "Es una métrica de la exactitud de un modelo que tiene en cuenta tanto la Precision como el Recall, \n",
    "donde el objetivo es clasificar las instancias correctamente como positivas o negativas. La Precision mide cuántos de los \n",
    "casos positivos predecidos fueron realmente positivos, mientras que el Recall mide cuántos de los casos positivos reales \n",
    "se predijeron correctamente. Una Precision alta significa que el modelo tiene una tasa baja de falsos positivos, \n",
    "mientras que una puntuación de Recall alta significa que el modelo tiene una tasa baja de falsos negativos.\n",
    "\n",
    "<b> F1 = 2 * (precision * recall) / (precision + recall)"
   ]
  },
  {
   "cell_type": "markdown",
   "id": "specialized-telescope",
   "metadata": {},
   "source": [
    "### ROC AUC\n",
    "Son métricas de ML que se utilizan para evaluar el rendimiento de los modelos de clasificación binaria. La curva ROC es un gráfico de la tasa de verdaderos positivos (TPR) frente a la tasa de falsos positivos (FPR) en varias configuraciones de umbral, y se crea variando el umbral para predecir un resultado positivo o negativo y trazando la TPR frente a la FPR para cada umbral. El TPR es la proporción de muestras positivas reales que el modelo identifica correctamente como positivas. Por el contrario, el FPR es la proporción de muestras negativas reales que el modelo identifica incorrectamente como positivas. En la siguiente figura, cada línea coloreada representa la curva ROC de un sistema clasificador binario diferente. Los ejes representan el FPR y el TPR. La línea diagonal representa un clasificador aleatorio, mientras que la esquina superior izquierda representa un clasificador perfecto con TPR=1 y FPR=0.\n",
    "\n",
    "<img src=\"ROC.png\" width=300 height=300 />"
   ]
  },
  {
   "cell_type": "markdown",
   "id": "pressed-breakdown",
   "metadata": {},
   "source": [
    "## 6) Reporte: \n",
    "Prepare un informe detallado que cubra todos los pasos realizados, desde el EDA hasta la interpretación de los resultados, incluyendo cualquier insight relevante obtenido durante el proceso."
   ]
  },
  {
   "cell_type": "markdown",
   "id": "distant-orange",
   "metadata": {},
   "source": [
    "<b>Se puede considerar como el reporte este notebook, ya que el codigo tiene comentarios de lo que se realizó. tambien esta tarea será publicada en Medium.<b/>"
   ]
  },
  {
   "cell_type": "code",
   "execution_count": null,
   "id": "colonial-newark",
   "metadata": {},
   "outputs": [],
   "source": []
  }
 ],
 "metadata": {
  "kernelspec": {
   "display_name": "Python 3",
   "language": "python",
   "name": "python3"
  },
  "language_info": {
   "codemirror_mode": {
    "name": "ipython",
    "version": 3
   },
   "file_extension": ".py",
   "mimetype": "text/x-python",
   "name": "python",
   "nbconvert_exporter": "python",
   "pygments_lexer": "ipython3",
   "version": "3.8.8"
  }
 },
 "nbformat": 4,
 "nbformat_minor": 5
}
